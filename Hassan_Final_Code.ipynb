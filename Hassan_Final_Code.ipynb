{
 "cells": [
  {
   "cell_type": "code",
   "execution_count": 32,
   "id": "4ae88870",
   "metadata": {},
   "outputs": [],
   "source": [
    "from selenium import webdriver\n",
    "from selenium.webdriver.chrome.options import Options\n",
    "from selenium.webdriver.support.ui import WebDriverWait\n",
    "from selenium.webdriver.support import expected_conditions as EC\n",
    "from selenium.webdriver.common.by import By\n",
    "from webdriver_manager.chrome import ChromeDriverManager\n",
    "from time import sleep\n",
    "from urllib.parse import quote\n",
    "import os"
   ]
  },
  {
   "cell_type": "code",
   "execution_count": 33,
   "id": "e3fb9d68",
   "metadata": {},
   "outputs": [
    {
     "name": "stdout",
     "output_type": "stream",
     "text": [
      "Selenium version: 3.141.0\n"
     ]
    }
   ],
   "source": [
    "import selenium\n",
    "print(\"Selenium version:\", selenium.__version__)"
   ]
  },
  {
   "cell_type": "code",
   "execution_count": 34,
   "id": "21f3b3d9",
   "metadata": {},
   "outputs": [
    {
     "name": "stdout",
     "output_type": "stream",
     "text": [
      "webdriver-manager version: 3.4.1\n"
     ]
    }
   ],
   "source": [
    "import webdriver_manager\n",
    "\n",
    "print(\"webdriver-manager version:\", webdriver_manager.__version__)"
   ]
  },
  {
   "cell_type": "code",
   "execution_count": 42,
   "id": "978a51d6",
   "metadata": {},
   "outputs": [
    {
     "name": "stdout",
     "output_type": "stream",
     "text": [
      "\u001b[34m\n",
      "Code is Running...\n",
      "\u001b[0m\n"
     ]
    }
   ],
   "source": [
    "os.system(\"\")\n",
    "os.environ[\"WDM_LOG_LEVEL\"] = \"0\"\n",
    "class style():\n",
    "    BLACK = '\\033[30m'\n",
    "    RED = '\\033[31m'\n",
    "    GREEN = '\\033[32m'\n",
    "    YELLOW = '\\033[33m'\n",
    "    BLUE = '\\033[34m'\n",
    "    MAGENTA = '\\033[35m'\n",
    "    CYAN = '\\033[36m'\n",
    "    WHITE = '\\033[37m'\n",
    "    UNDERLINE = '\\033[4m'\n",
    "    RESET = '\\033[0m'\n",
    "\n",
    "print(style.BLUE)\n",
    "print(\"Code is Running...\")\n",
    "print(style.RESET)"
   ]
  },
  {
   "cell_type": "code",
   "execution_count": 43,
   "id": "5861fe27",
   "metadata": {},
   "outputs": [
    {
     "name": "stdout",
     "output_type": "stream",
     "text": [
      "\u001b[33m\n",
      "This is your message-\n",
      "\u001b[32m\n",
      "\n",
      "*Project Empire Suites at Jumeirah Village Circle(JVC)*\n",
      "*Luxury Apartments, 10% Booking Offer!*\n",
      "\n",
      "- Luxury Studio, 1, and 2 bedroom apartments.\n",
      "- Ensuite private swimming pool and cinema.\n",
      "- Exquisitely furnished apartments.\n",
      "- Italian finishes and custom marble fittings.\n",
      "- Fitted kitchen with German appliances.\n",
      "- Cutting-edge Smart home system.\n",
      "- Starting from AED 850K.\n",
      "- Flexible 60/40 Payment Plan.\n",
      "- Handover in December 2025.\n",
      "\n",
      "*Amenities:*\n",
      "- Grand Lobby, Restaurant.\n",
      "- Olympic Pool, Kids Pool.\n",
      "- Gym, Outdoor Cinema.\n",
      "- Sauna, Jacuzzi.\n",
      "- Kids Play Area.\n",
      "- Green Spaces, Trails.\n",
      "- Near Downtown, Airport.\n",
      "- Shops, Schools, Medical.\n",
      "- Business Centre.\n",
      "\n",
      "*Construction Underway!*\n",
      "Limited inventory available, Act Now!\n",
      "\n",
      "*Escrow Account is open for transaction.*\n",
      "For more info, contact us for further discussion.\n",
      "\n",
      "\u001b[0m\n"
     ]
    }
   ],
   "source": [
    "f = open(\"message.txt\", \"r\", encoding=\"utf8\")\n",
    "message = f.read()\n",
    "f.close()\n",
    "\n",
    "print(style.YELLOW + '\\nThis is your message-')\n",
    "print(style.GREEN + message)\n",
    "print(\"\\n\" + style.RESET)\n",
    "message = quote(message)"
   ]
  },
  {
   "cell_type": "code",
   "execution_count": null,
   "id": "e836676e",
   "metadata": {},
   "outputs": [],
   "source": [
    "import pandas as pd\n",
    "\n",
    "data = pd.read_csv('updated_filtered_volume.csv')\n",
    "excel_data = data[269:369]\n",
    "excel_data"
   ]
  },
  {
   "cell_type": "code",
   "execution_count": 44,
   "id": "fef756a8",
   "metadata": {},
   "outputs": [
    {
     "name": "stdout",
     "output_type": "stream",
     "text": [
      "\u001b[31mWe found 99 numbers in the file\u001b[0m\n"
     ]
    }
   ],
   "source": [
    "numbers = []\n",
    "f = open(\"numbers.txt\", \"r\")\n",
    "for line in f.read().splitlines():\n",
    "    if line.strip() != \"\":\n",
    "        numbers.append(line.strip())\n",
    "f.close()\n",
    "total_number=len(numbers)\n",
    "print(style.RED + 'We found ' + str(total_number) + ' numbers in the file' + style.RESET)"
   ]
  },
  {
   "cell_type": "code",
   "execution_count": 45,
   "id": "4ba7793e",
   "metadata": {},
   "outputs": [
    {
     "name": "stdout",
     "output_type": "stream",
     "text": [
      "\u001b[31mWe found 99 names in the file\u001b[0m\n"
     ]
    }
   ],
   "source": [
    "names = []\n",
    "f = open(\"names.txt\", \"r\")\n",
    "for line in f.read().splitlines():\n",
    "    if line.strip() != \"\":\n",
    "        names.append(line.strip())\n",
    "f.close()\n",
    "total_names = len(names)\n",
    "print(style.RED + 'We found ' + str(total_names) + ' names in the file' + style.RESET)"
   ]
  },
  {
   "cell_type": "code",
   "execution_count": 40,
   "id": "f232fb01",
   "metadata": {},
   "outputs": [
    {
     "name": "stdout",
     "output_type": "stream",
     "text": [
      "Once your browser opens up sign in to web whatsapp\n",
      "AFTER logging into Whatsapp Web is complete and your chats are visible, press ENTER...\n"
     ]
    },
    {
     "data": {
      "text/plain": [
       "''"
      ]
     },
     "execution_count": 40,
     "metadata": {},
     "output_type": "execute_result"
    }
   ],
   "source": [
    "options = Options()\n",
    "options.add_experimental_option(\"excludeSwitches\", [\"enable-logging\"])\n",
    "options.add_experimental_option(\"excludeSwitches\", [\"enable-automation\"])\n",
    "options.add_experimental_option('useAutomationExtension', False)\n",
    "options.add_argument(\"--profile-directory=Default\")\n",
    "options.add_argument(\"--user-data-dir=D:/var/tmp/chrome_user_data\")\n",
    "\n",
    "driver = webdriver.Chrome(executable_path=r\"D:\\Data Science\\chromedriver-win64\\chromedriver-win64\\chromedriver.exe\",\n",
    "                          options=options)\n",
    "print('Once your browser opens up sign in to web whatsapp')\n",
    "driver.get('https://web.whatsapp.com')\n",
    "input(style.MAGENTA + \"AFTER logging into Whatsapp Web is complete and your chats are visible, press ENTER...\" + style.RESET)"
   ]
  },
  {
   "cell_type": "code",
   "execution_count": null,
   "id": "4857fad7",
   "metadata": {},
   "outputs": [],
   "source": [
    "import time\n",
    "delay = 30\n",
    "\n",
    "\n",
    "for idx, (name, number) in enumerate(zip(names, numbers)):\n",
    "    number = number.strip()\n",
    "    if number == \"\":\n",
    "        continue\n",
    "    print(style.YELLOW + '{}/{} => Sending message to {}.'.format((idx+1), total_number, [name, number]) + style.RESET)\n",
    "    \n",
    "    try:\n",
    "        url = f'https://web.whatsapp.com/send?phone={number}&text=Dear {name}, {message}'\n",
    "        sent = False\n",
    "        for i in range(1):\n",
    "            if not sent:\n",
    "                driver.get(url)\n",
    "                try:\n",
    "                    time.sleep(60)\n",
    "                    click_btn = WebDriverWait(driver, delay).until(EC.element_to_be_clickable((By.XPATH, \"//button[@data-tab='11']\")))\n",
    "                except Exception as e:\n",
    "                    print(style.RED + f\"\\nFailed to send message to: {number}, retry ({i+1}/3)\")\n",
    "                    print(\"Make sure your phone and computer is connected to the internet.\")\n",
    "                    print(\"If there is an alert, please dismiss it.\" + style.RESET)\n",
    "                else:\n",
    "                    time.sleep(1)\n",
    "                    click_btn.click()\n",
    "                    sent=True\n",
    "                    time.sleep(3)\n",
    "                    print(style.GREEN + 'Message sent to: ' + number + style.RESET)\n",
    "    except Exception as e:\n",
    "        print(style.RED + 'Failed to send message to ' + number + str(e) + style.RESET)\n",
    "\n",
    "# driver.close()"
   ]
  },
  {
   "cell_type": "code",
   "execution_count": null,
   "id": "f9c85552",
   "metadata": {},
   "outputs": [],
   "source": []
  },
  {
   "cell_type": "code",
   "execution_count": null,
   "id": "dfe25b21",
   "metadata": {},
   "outputs": [],
   "source": []
  },
  {
   "cell_type": "code",
   "execution_count": null,
   "id": "431db65c",
   "metadata": {},
   "outputs": [],
   "source": []
  }
 ],
 "metadata": {
  "kernelspec": {
   "display_name": "Python 3 (ipykernel)",
   "language": "python",
   "name": "python3"
  },
  "language_info": {
   "codemirror_mode": {
    "name": "ipython",
    "version": 3
   },
   "file_extension": ".py",
   "mimetype": "text/x-python",
   "name": "python",
   "nbconvert_exporter": "python",
   "pygments_lexer": "ipython3",
   "version": "3.10.9"
  }
 },
 "nbformat": 4,
 "nbformat_minor": 5
}
