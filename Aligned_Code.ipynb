{
 "cells": [
  {
   "cell_type": "code",
   "execution_count": 15,
   "id": "cb953074",
   "metadata": {},
   "outputs": [],
   "source": [
    "from selenium import webdriver\n",
    "from selenium.webdriver.chrome.options import Options\n",
    "from selenium.webdriver import chromeOptions, Chrome\n",
    "import time\n",
    "\n",
    "import warnings\n",
    "warnings.filterwarnings(\"ignore\")"
   ]
  },
  {
   "cell_type": "code",
   "execution_count": 16,
   "id": "f54aef82",
   "metadata": {},
   "outputs": [],
   "source": [
    "opts = Options()\n",
    "opts.add_experimental_option(\"detach\", True)\n",
    "driver = Chrome(chrome_options=opts)\n",
    "\n",
    "driver.get(\"https://www.facebook.com/\")\n",
    "time.sleep(5)\n",
    "\n",
    "driver.close()"
   ]
  },
  {
   "cell_type": "code",
   "execution_count": 23,
   "id": "b4aa2160",
   "metadata": {},
   "outputs": [],
   "source": [
    "options = Options()\n",
    "options.add_experimental_option(\"detach\", True) # Keep the window open\n",
    "\n",
    "# Configuring a web automation tool...\n",
    "options.add_experimental_option(\"excludeSwitches\", [\"enable-automation\"])\n",
    "options.add_experimental_option('useAutomationExtension', False)\n",
    "\n",
    "driver = Chrome(chrome_options=options)\n",
    "\n",
    "driver.get(\"https://www.google.com/\")\n",
    "time.sleep(5)\n",
    "\n",
    "driver.close()"
   ]
  },
  {
   "cell_type": "code",
   "execution_count": 40,
   "id": "c65e1cca",
   "metadata": {},
   "outputs": [],
   "source": [
    "# Command Prompt : chrome.exe --remote-debugging-port=8585 --user-data-dir=D:\\Chrome-Auto-Env\\WhatsApp\\Whatsapp-with-selenium-Updated\n",
    "\n",
    "options = Options()\n",
    "options.add_experimental_option(\"debuggerAddress\", \"127.0.0.1:8585\")\n",
    "options.use_chromium = True \n",
    "\n",
    "driver = Chrome(chrome_options=options)\n",
    "\n",
    "# driver.get(\"https://www.google.com/\")\n",
    "driver.get(\"https://www.facebook.com/\")\n",
    "\n",
    "# driver.close()"
   ]
  },
  {
   "cell_type": "code",
   "execution_count": 39,
   "id": "8d3d5e1a",
   "metadata": {},
   "outputs": [
    {
     "name": "stdout",
     "output_type": "stream",
     "text": [
      "Local host localhost on port 8585 is reachable.\n"
     ]
    }
   ],
   "source": [
    "import socket\n",
    "\n",
    "host = \"localhost\"  # The local host\n",
    "port = 8585  # Port number you want to check (e.g., 80 for HTTP)\n",
    "\n",
    "try:\n",
    "    # Create a socket object\n",
    "    s = socket.socket(socket.AF_INET, socket.SOCK_STREAM)\n",
    "    \n",
    "    # Try to connect to the local host\n",
    "    s.connect((host, port))\n",
    "    \n",
    "    print(f\"Local host {host} on port {port} is reachable.\")\n",
    "    \n",
    "    # Close the socket\n",
    "    s.close()\n",
    "except ConnectionRefusedError:\n",
    "    print(f\"Local host {host} on port {port} is not reachable.\")\n",
    "    \n",
    "except Exception as e:\n",
    "    print(f\"An error occurred: {str(e)}\")\n"
   ]
  },
  {
   "cell_type": "code",
   "execution_count": null,
   "id": "509dbf5e",
   "metadata": {},
   "outputs": [],
   "source": [
    "# Get the debugger address for Chrome\n",
    "debugger_address = driver.capabilities['goog:chromeOptions']['debuggerAddress']\n",
    "print(f\"Debugger Address: {debugger_address}\")\n",
    "\n",
    "# Get the URL where Chrome is running\n",
    "driver_url = driver.command_executor._url\n",
    "print(f\"Chrome WebDriver URL: {driver_url}\")"
   ]
  },
  {
   "cell_type": "code",
   "execution_count": null,
   "id": "83e21ca7",
   "metadata": {},
   "outputs": [],
   "source": [
    "# Dynamic\n",
    "from msedge.selenium_tools import Edge, EdgeOptions\n",
    "import warnings\n",
    "import socket\n",
    "import requests\n",
    "\n",
    "warnings.filterwarnings(\"ignore\")\n",
    "\n",
    "# Function to get an available port on localhost\n",
    "def get_available_port():\n",
    "    s = socket.socket(socket.AF_INET, socket.SOCK_STREAM)\n",
    "    s.bind(('localhost', 0))\n",
    "    address, port = s.getsockname()\n",
    "    s.close()\n",
    "    return port\n",
    "\n",
    "# Get the local IP address dynamically\n",
    "def get_local_ip():\n",
    "    return socket.gethostbyname(socket.gethostname())\n",
    "\n",
    "# Get the local hostname\n",
    "def get_local_hostname():\n",
    "    return socket.gethostname()\n",
    "\n",
    "# Get public IP address\n",
    "def get_public_ip():\n",
    "    try:\n",
    "        response = requests.get('https://ipinfo.io')\n",
    "        data = response.json()\n",
    "        return data.get('ip', 'N/A')\n",
    "    except Exception as e:\n",
    "        return 'N/A'\n",
    "\n",
    "# Launch Microsoft Edge (Chromium)\n",
    "# options = EdgeOptions()\n",
    "port = get_available_port()\n",
    "local_ip = get_local_ip()\n",
    "local_hostname = get_local_hostname()\n",
    "public_ip = get_public_ip()\n",
    "# options.add_experimental_option(\"debuggerAddress\", \"localhost:8585\")\n",
    "# options.use_chromium = True\n",
    "# options.binary_location = r\"C:\\Program Files (x86)\\Microsoft\\Edge\\Application\\msedge.exe\"\n",
    "\n",
    "# driver = Edge(executable_path = r\"D:\\DS-works\\WhatsApp\\Whatsapp-with-selenium-Updated\\msedgedriver.exe\", options = options)\n",
    "\n",
    "# driver.get(\"https://web.whatsapp.com/\")\n",
    "\n",
    "print(\"Local IP:\", local_ip)\n",
    "print(\"Port:\", port)\n",
    "print(\"Local Hostname:\", local_hostname)\n",
    "print(\"Public IP:\", public_ip)\n",
    "print(\"Debugger Address:\", f\"{local_ip}:{port}\")"
   ]
  }
 ],
 "metadata": {
  "kernelspec": {
   "display_name": "Python 3 (ipykernel)",
   "language": "python",
   "name": "python3"
  },
  "language_info": {
   "codemirror_mode": {
    "name": "ipython",
    "version": 3
   },
   "file_extension": ".py",
   "mimetype": "text/x-python",
   "name": "python",
   "nbconvert_exporter": "python",
   "pygments_lexer": "ipython3",
   "version": "3.11.4"
  }
 },
 "nbformat": 4,
 "nbformat_minor": 5
}
