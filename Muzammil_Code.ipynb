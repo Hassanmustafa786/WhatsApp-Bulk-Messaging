{
 "cells": [
  {
   "cell_type": "code",
   "execution_count": null,
   "id": "8777f519",
   "metadata": {},
   "outputs": [],
   "source": [
    "\"\"\"\n",
    "right click on MS Edge browser and click on OPEN FILE LOOCATION and then open cmd from address\n",
    "bar and then paste below command.\n",
    "\n",
    "new msedge window must be open after that\n",
    "\n",
    "\"\"\"\n",
    "'msedge.exe --remote-debugging-port=8585 --user-data-dir=E:\\DS-works\\WhatsApp\\Whatsapp-with-selenium-Updated'"
   ]
  },
  {
   "cell_type": "code",
   "execution_count": 1,
   "id": "510ad695",
   "metadata": {},
   "outputs": [],
   "source": [
    "import pandas as pd\n",
    "from selenium import webdriver\n",
    "from selenium.common.exceptions import TimeoutException\n",
    "from selenium.webdriver.support.ui import WebDriverWait # available since 2.4.0\n",
    "from selenium.webdriver.support import expected_conditions as EC # available since 2.26.0\n",
    "import time\n",
    "from selenium.webdriver.common.by import By\n",
    "from selenium.webdriver.chrome.options import Options\n",
    "from selenium.webdriver.common.keys import Keys\n",
    "from selenium.webdriver.common.action_chains import ActionChains\n",
    "import pyperclip\n",
    "import emoji\n",
    "from selenium.webdriver.chrome.service import Service\n",
    "from msedge.selenium_tools import Edge, EdgeOptions\n",
    "from selenium import webdriver\n",
    "from selenium.webdriver.common.action_chains import ActionChains"
   ]
  },
  {
   "cell_type": "markdown",
   "id": "581cdb61",
   "metadata": {},
   "source": [
    "# Importing Database"
   ]
  },
  {
   "cell_type": "code",
   "execution_count": 2,
   "id": "ee9c67c6",
   "metadata": {},
   "outputs": [
    {
     "data": {
      "text/html": [
       "<div>\n",
       "<style scoped>\n",
       "    .dataframe tbody tr th:only-of-type {\n",
       "        vertical-align: middle;\n",
       "    }\n",
       "\n",
       "    .dataframe tbody tr th {\n",
       "        vertical-align: top;\n",
       "    }\n",
       "\n",
       "    .dataframe thead th {\n",
       "        text-align: right;\n",
       "    }\n",
       "</style>\n",
       "<table border=\"1\" class=\"dataframe\">\n",
       "  <thead>\n",
       "    <tr style=\"text-align: right;\">\n",
       "      <th></th>\n",
       "      <th>Contact</th>\n",
       "      <th>Names</th>\n",
       "      <th>Message</th>\n",
       "    </tr>\n",
       "  </thead>\n",
       "  <tbody>\n",
       "    <tr>\n",
       "      <th>0</th>\n",
       "      <td>923212712753</td>\n",
       "      <td>Hafiz Hassan Mustafa</td>\n",
       "      <td>*Project Empire Suites at Jumeirah Village Cir...</td>\n",
       "    </tr>\n",
       "    <tr>\n",
       "      <th>1</th>\n",
       "      <td>923233214018</td>\n",
       "      <td>Hammad Raza</td>\n",
       "      <td>*Project Empire Suites at Jumeirah Village Cir...</td>\n",
       "    </tr>\n",
       "  </tbody>\n",
       "</table>\n",
       "</div>"
      ],
      "text/plain": [
       "        Contact                 Names  \\\n",
       "0  923212712753  Hafiz Hassan Mustafa   \n",
       "1  923233214018           Hammad Raza   \n",
       "\n",
       "                                             Message  \n",
       "0  *Project Empire Suites at Jumeirah Village Cir...  \n",
       "1  *Project Empire Suites at Jumeirah Village Cir...  "
      ]
     },
     "execution_count": 2,
     "metadata": {},
     "output_type": "execute_result"
    }
   ],
   "source": [
    "data = pd.read_excel('Recipients data.xlsx')#,sheet_name='Sheet2'\n",
    "data.head(2)"
   ]
  },
  {
   "cell_type": "code",
   "execution_count": 3,
   "id": "8ace68b9",
   "metadata": {},
   "outputs": [],
   "source": [
    "number = data['Contact']\n",
    "name = data['Names']\n",
    "message = data['Message']"
   ]
  },
  {
   "cell_type": "code",
   "execution_count": 4,
   "id": "8eefbb66",
   "metadata": {},
   "outputs": [
    {
     "name": "stdout",
     "output_type": "stream",
     "text": [
      "Message Sent to: Hafiz Hassan Mustafa\n",
      "Message Sent to: Hammad Raza\n",
      "Message Sent to: farhan \n",
      "Message Sent to: Sameer\n",
      "Message Sent to: Hafiz Hassan Mustafa\n",
      "Message Sent to: Hammad Raza\n",
      "Message Sent to: farhan \n",
      "Message Sent to: Sameer\n",
      "Message Sent to: Hafiz Hassan Mustafa\n",
      "Message Sent to: Hammad Raza\n",
      "Message Sent to: farhan \n",
      "Message Sent to: Sameer\n",
      "Message Sent to: Hafiz Hassan Mustafa\n",
      "Message Sent to: Hammad Raza\n",
      "Message Sent to: farhan \n",
      "Message Sent to: Sameer\n",
      "Message Sent to: Hafiz Hassan Mustafa\n",
      "Message Sent to: Hammad Raza\n",
      "Message Sent to: farhan \n",
      "Message Sent to: Sameer\n"
     ]
    }
   ],
   "source": [
    "for leads in enumerate(zip(name,number,message)):\n",
    "    print('Message Sent to: '+leads[1][0])"
   ]
  },
  {
   "cell_type": "code",
   "execution_count": 15,
   "id": "2c14f227",
   "metadata": {},
   "outputs": [
    {
     "name": "stdout",
     "output_type": "stream",
     "text": [
      "Message Sent to Hafiz Hassan Mustafa: 923212712753\n",
      "Message Sent to Hammad Raza: 923233214018\n",
      "Message Sent to farhan : 923421500205\n",
      "Message Sent to Sameer: 923101284817\n",
      "Message Sent to Hafiz Hassan Mustafa: 923212712753\n",
      "Message Sent to Hammad Raza: 923233214018\n",
      "Message Sent to farhan : 923421500205\n",
      "Message Sent to Sameer: 923101284817\n",
      "Message Sent to Hafiz Hassan Mustafa: 923212712753\n",
      "Message Sent to Hammad Raza: 923233214018\n",
      "Message Sent to farhan : 923421500205\n",
      "Message Sent to Sameer: 923101284817\n",
      "Message Sent to Hafiz Hassan Mustafa: 923212712753\n",
      "Message Sent to Hammad Raza: 923233214018\n",
      "Message Sent to farhan : 923421500205\n",
      "Message Sent to Sameer: 923101284817\n",
      "Message Sent to Hafiz Hassan Mustafa: 923212712753\n",
      "Message Sent to Hammad Raza: 923233214018\n",
      "Message Sent to farhan : 923421500205\n",
      "Message Sent to Sameer: 923101284817\n"
     ]
    }
   ],
   "source": [
    "for index, row in data.iterrows():\n",
    "    number = str(row['Contact'])\n",
    "    name = row['Names']\n",
    "    print(f\"Message Sent to {name}: {number}\")"
   ]
  },
  {
   "cell_type": "code",
   "execution_count": null,
   "id": "e247b86a",
   "metadata": {
    "scrolled": true
   },
   "outputs": [
    {
     "name": "stderr",
     "output_type": "stream",
     "text": [
      "C:\\Users\\FAKTCO~1\\AppData\\Local\\Temp/ipykernel_9060/2160902393.py:5: DeprecationWarning: Selenium Tools for Microsoft Edge is deprecated. Please upgrade to Selenium 4 which has built-in support for Microsoft Edge (Chromium): https://docs.microsoft.com/en-us/microsoft-edge/webdriver-chromium/#upgrading-from-selenium-3\n",
      "  driver = Edge(executable_path = r\"E:\\DS-works\\WhatsApp\\Whatsapp-with-selenium-Updated\\msedgedriver.exe\", options = options)\n"
     ]
    },
    {
     "name": "stdout",
     "output_type": "stream",
     "text": [
      "Message Sent to: Syed Muzammil\n"
     ]
    }
   ],
   "source": [
    "options = EdgeOptions()\n",
    "\n",
    "options.add_experimental_option(\"debuggerAddress\",\"localhost:8585\")\n",
    "options.use_chromium = True \n",
    "\n",
    "options.binary_location = r\"C:\\Program Files (x86)\\Microsoft\\Edge\\Application\\msedge.exe\"\n",
    "\n",
    "driver = Edge(executable_path = r\"E:\\DS-works\\WhatsApp\\Whatsapp-with-selenium-Updated\\msedgedriver.exe\", options = options)\n",
    "# new_msg = msg\n",
    "for leads in enumerate(zip(name,number,message)):\n",
    "    driver.get(f\"https://web.whatsapp.com/send/?phone=%2B{leads[1][1]}&text=&type=phone_number&app_absent=0\".format(leads[1][1]))\n",
    "    driver.implicitly_wait(30)\n",
    "#     time.sleep(10)\n",
    "    \n",
    "    \n",
    "    #Sending Message\n",
    "    content = 'Dear '+leads[1][0]+'\\n'+leads[1][2]\n",
    "    pyperclip.copy(content)\n",
    "    elem = driver.find_element('xpath','/html/body/div[1]/div/div/div[5]/div/footer/div[1]/div/span[2]/div/div[2]/div[1]/div/div[1]/p')\n",
    "    elem.click()\n",
    "    elem.send_keys(Keys.CONTROL, 'v')\n",
    "    send_btn = driver.find_element('xpath','/html/body/div[1]/div/div/div[5]/div/footer/div[1]/div/span[2]/div/div[2]/div[2]/button/span')\n",
    "    send_btn.click()\n",
    "    time.sleep(1)\n",
    "    \n",
    "    #sending Document\n",
    "    load_media = driver.find_element('xpath','/html/body/div[1]/div/div/div[5]/div/footer/div[1]/div/span[2]/div/div[1]/div[2]/div/div/div/span')\n",
    "    load_media.click()\n",
    "    up_doc = driver.find_element('xpath','/html/body/div[1]/div/div/div[5]/div/footer/div[1]/div/span[2]/div/div[1]/div[2]/div/span/div/ul/div/div[2]/li/div/input')\n",
    "    up_doc.send_keys(r'E:\\DS-works\\WhatsApp\\SIR-WAQAS\\New-Script-with-MSEDGE\\document.pdf')\n",
    "    time.sleep(2)\n",
    "    send_btn = driver.find_element('xpath','/html/body/div[1]/div/div/div[3]/div[2]/span/div/span/div/div/div[2]/div/div[2]/div[2]/div/div')\n",
    "    send_btn.click()\n",
    "    print('Message Sent to: '+leads[1][0])\n",
    "    time.sleep(10)"
   ]
  },
  {
   "cell_type": "code",
   "execution_count": null,
   "id": "588ea6cd",
   "metadata": {},
   "outputs": [],
   "source": []
  }
 ],
 "metadata": {
  "kernelspec": {
   "display_name": "Python 3 (ipykernel)",
   "language": "python",
   "name": "python3"
  },
  "language_info": {
   "codemirror_mode": {
    "name": "ipython",
    "version": 3
   },
   "file_extension": ".py",
   "mimetype": "text/x-python",
   "name": "python",
   "nbconvert_exporter": "python",
   "pygments_lexer": "ipython3",
   "version": "3.11.4"
  }
 },
 "nbformat": 4,
 "nbformat_minor": 5
}
