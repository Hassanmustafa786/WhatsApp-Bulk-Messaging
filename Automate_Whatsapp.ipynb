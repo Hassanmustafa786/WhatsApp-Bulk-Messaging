{
 "cells": [
  {
   "cell_type": "code",
   "execution_count": null,
   "id": "6a8d88d8",
   "metadata": {},
   "outputs": [],
   "source": [
    "# # msedge.exe --remote-debugging-port=8585 --user-data-dir\n",
    "\n",
    "# options = EdgeOptions()\n",
    "# options.add_experimental_options(\"debuggerAddress\", \"Localhost:8585\")\n",
    "# options.use_chromium = True\n",
    "# options.binary_location = r'C:\\Program Files (x86)\\Microsoft\\Edge\\Application'\n",
    "# driver = Edge(executable_path = r'msedgedriver.exe', options = options)"
   ]
  },
  {
   "cell_type": "code",
   "execution_count": null,
   "id": "75c8441c",
   "metadata": {},
   "outputs": [],
   "source": [
    "# from selenium import webdriver\n",
    "# from selenium.webdriver.chrome.service import Service\n",
    "# from selenium.webdriver.support.ui import WebDriverWait\n",
    "# from selenium.webdriver.support import expected_conditions as EC\n",
    "# from selenium.webdriver.common.by import By\n",
    "# from selenium.webdriver.common.keys import Keys\n",
    "# import time\n",
    "# import os\n",
    "\n",
    "# service = Service(executable_path='./chromedriver.exe')\n",
    "# options = webdriver.ChromeOptions()\n",
    "# opt.add_experimental_option(\"debuggerAddress\",\"localhost:8989\")\n",
    "\n",
    "# driver = webdriver.Chrome(service=service, options=options)\n",
    "\n",
    "# # Open WhatsApp Web\n",
    "# url = f'https://web.whatsapp.com/send?phone={+923212712753}'\n",
    "# driver.get(url)\n",
    "\n",
    "# chat_input = WebDriverWait(driver, 30).until(\n",
    "#     EC.presence_of_element_located((By.XPATH, '//div[@title=\"Type a message\"]')))\n",
    "\n",
    "# chat_input.clear()\n",
    "# chat_input.send_keys(f'{datetime.datetime.now().strftime(\"%d-%B-%Y\" + \"  \" + \"(\" + \"%I:%M %p\" + \")\")}') #Send date & time\n",
    "# chat_input.send_keys(Keys.SHIFT, Keys.RETURN)  # Press Shift+Enter to create a new line\n",
    "# chat_input.send_keys(Keys.SHIFT, Keys.RETURN)  # Press Shift+Enter to create a new line\n",
    "# chat_input.send_keys(\"Hey Hassan!\")\n",
    "\n",
    "# chat_input.send_keys(Keys.RETURN)  # Send the complete message\n",
    "# print(f'{count}- Message sent to {contact} successfully.')\n",
    "\n",
    "\n",
    "# # Close the WebDriver when done\n",
    "# driver.quit()"
   ]
  },
  {
   "cell_type": "code",
   "execution_count": 42,
   "id": "56cfd329",
   "metadata": {},
   "outputs": [
    {
     "name": "stdout",
     "output_type": "stream",
     "text": [
      "Debugger Address: localhost:8989\n",
      "Chrome WebDriver URL: http://127.0.0.1:54286\n"
     ]
    }
   ],
   "source": [
    "# Youtube\n",
    "\n",
    "from selenium import webdriver\n",
    "from selenium.webdriver.chrome.options import Options\n",
    "\n",
    "opt = Options()\n",
    "opt.add_experimental_option(\"debuggerAddress\", \"localhost:8989\")\n",
    "\n",
    "driver = webdriver.Chrome(chrome_options=opt)\n",
    "\n",
    "driver.get(\"http://facebook.com\")\n",
    "\n",
    "\n",
    "# chrome.exe --remote-debugging-port=8989 --user-data-dir=C:\\Users\\perfect\\Selenium\\chromedata8989\n",
    "\n",
    "#----------------------------------------------------------------------------------------------------------------------\n",
    "\n",
    "# Get the debugger address\n",
    "debugger_address = driver.capabilities['goog:chromeOptions']['debuggerAddress']\n",
    "print(f\"Debugger Address: {debugger_address}\")\n",
    "\n",
    "# Get the URL where Edge is running\n",
    "driver_url = driver.command_executor._url\n",
    "print(f\"Chrome WebDriver URL: {driver_url}\")"
   ]
  },
  {
   "cell_type": "markdown",
   "id": "42d454f9",
   "metadata": {},
   "source": [
    "### IP address: \"127.0.0.1\"\n",
    "\n",
    "### localhost:8989\n",
    "\n",
    "### Actual port number: \"127.0.0.1:XXXXX\"\n",
    "\n",
    "127.0.0.1\" is a special IP address that is commonly used to refer to the localhost, which is the current device you're using. When you see \"127.0.0.1,\" it means you're referring to your own computer.\n",
    "\n",
    "The \"XXXXX\" is a placeholder for an actual port number, which is used to identify a specific service or application running on your computer. Ports are essential for communication between different programs and services on a computer. The specific service/application that uses this port is determined by the software running on your machine."
   ]
  },
  {
   "cell_type": "code",
   "execution_count": 50,
   "id": "32373f88",
   "metadata": {},
   "outputs": [
    {
     "name": "stdout",
     "output_type": "stream",
     "text": [
      "Debugger Address: localhost:8585\n",
      "Edge WebDriver URL: http://127.0.0.1:55849\n"
     ]
    }
   ],
   "source": [
    "#EDGE\n",
    "import time\n",
    "from selenium import webdriver\n",
    "from selenium.webdriver.edge.service import Service\n",
    "from selenium.webdriver.edge.options import Options\n",
    "from msedge.selenium_tools import Edge, EdgeOptions\n",
    "\n",
    "\n",
    "options = EdgeOptions()\n",
    "options.add_experimental_option(\"debuggerAddress\", \"localhost:8585\")\n",
    "options.use_chromium = True\n",
    "options.binary_location = r\"C:\\Program Files (x86)\\Microsoft\\Edge\\Application\\msedge.exe\"\n",
    "\n",
    "driver = Edge(executable_path=r\"C:\\Users\\perfect\\Selenium\\msedgedriver.exe\", options=options)\n",
    "\n",
    "driver.get(\"https://www.facebook.com/\")\n",
    "time.sleep(10)\n",
    "\n",
    "\n",
    "# COMMAND run in prompt...\n",
    "# msedge.exe --remote-debugging-port=8585 --user-data-dir=C:\\Users\\perfect\\Selenium\\edgedata8585\n",
    "\n",
    "#-----------------------------------------------------------------------------------------------\n",
    "\n",
    "# Get the debugger address\n",
    "debugger_address = driver.capabilities['ms:edgeOptions']['debuggerAddress']\n",
    "print(f\"Debugger Address: {debugger_address}\")\n",
    "\n",
    "# Get the URL where Edge is running\n",
    "driver_url = driver.command_executor._url\n",
    "print(f\"Edge WebDriver URL: {driver_url}\")"
   ]
  },
  {
   "cell_type": "code",
   "execution_count": 58,
   "id": "e3d7f4f1",
   "metadata": {},
   "outputs": [
    {
     "name": "stdout",
     "output_type": "stream",
     "text": [
      "Local IP 192.168.2.117\n",
      "Port 57417\n",
      "Local Hostname: Hassyyy\n",
      "Public IP: 39.34.139.30\n",
      "Debugger Address: 192.168.2.117:57417\n"
     ]
    }
   ],
   "source": [
    "# Dynamic\n",
    "\n",
    "from msedge.selenium_tools import Edge, EdgeOptions\n",
    "import warnings\n",
    "import socket\n",
    "import requests\n",
    "\n",
    "warnings.filterwarnings(\"ignore\")\n",
    "\n",
    "# Function to get an available port on localhost\n",
    "def get_available_port():\n",
    "    s = socket.socket(socket.AF_INET, socket.SOCK_STREAM)\n",
    "    s.bind(('localhost', 0))\n",
    "    address, port = s.getsockname()\n",
    "    s.close()\n",
    "    return port\n",
    "\n",
    "# Get the local IP address dynamically\n",
    "def get_local_ip():\n",
    "    return socket.gethostbyname(socket.gethostname())\n",
    "\n",
    "# Get the local hostname\n",
    "def get_local_hostname():\n",
    "    return socket.gethostname()\n",
    "\n",
    "# Get public IP address\n",
    "def get_public_ip():\n",
    "    try:\n",
    "        response = requests.get('https://ipinfo.io')\n",
    "        data = response.json()\n",
    "        return data.get('ip', 'N/A')\n",
    "    except Exception as e:\n",
    "        return 'N/A'\n",
    "\n",
    "# Launch Microsoft Edge (Chromium)\n",
    "options = EdgeOptions()\n",
    "port = get_available_port()\n",
    "local_ip = get_local_ip()\n",
    "local_hostname = get_local_hostname()\n",
    "public_ip = get_public_ip()\n",
    "options.add_experimental_option(\"debuggerAddress\", \"localhost:8585\")\n",
    "options.use_chromium = True\n",
    "options.binary_location = r\"C:\\Program Files (x86)\\Microsoft\\Edge\\Application\\msedge.exe\"\n",
    "\n",
    "driver = Edge(executable_path=r\"C:\\Users\\perfect\\Selenium\\msedgedriver.exe\", options=options)\n",
    "\n",
    "driver.get(\"https://www.bing.com/\")\n",
    "\n",
    "print(\"Local IP:\", local_ip)\n",
    "print(\"Port:\", port)\n",
    "print(\"Local Hostname:\", local_hostname)\n",
    "print(\"Public IP:\", public_ip)\n",
    "print(\"Debugger Address:\", f\"{local_ip}:{port}\")"
   ]
  },
  {
   "cell_type": "code",
   "execution_count": 17,
   "id": "2e6d45ff",
   "metadata": {},
   "outputs": [
    {
     "name": "stdout",
     "output_type": "stream",
     "text": [
      "Debugger Address: localhost:8585\n",
      "Edge WebDriver URL: http://127.0.0.1:62738\n",
      "Edge WebDriver URL not found or accessible.\n"
     ]
    }
   ],
   "source": [
    "from msedge.selenium_tools import Edge, EdgeOptions\n",
    "import warnings\n",
    "\n",
    "warnings.filterwarnings(\"ignore\")\n",
    "\n",
    "\n",
    "# Launch Microsoft Edge (Chromium)\n",
    "options = EdgeOptions()\n",
    "options.add_experimental_option(\"debuggerAddress\", \"localhost:8585\")\n",
    "options.use_chromium = True\n",
    "options.binary_location = r\"C:\\Program Files (x86)\\Microsoft\\Edge\\Application\\msedge.exe\"\n",
    "\n",
    "driver = Edge(executable_path=r\"C:\\Users\\perfect\\Selenium\\msedgedriver.exe\", options=options)\n",
    "\n",
    "driver.get(\"https://www.bing.com/\")\n",
    "\n",
    "# Get the debugger address\n",
    "debugger_address = driver.capabilities['ms:edgeOptions']['debuggerAddress']\n",
    "print(f\"Debugger Address: {debugger_address}\")\n",
    "\n",
    "# Get the URL where Edge is running\n",
    "driver_url = driver.command_executor._url\n",
    "print(f\"Edge WebDriver URL: {driver_url}\")\n",
    "\n",
    "\n",
    "\n",
    "\n",
    "\n",
    "\n",
    "import socket\n",
    "import requests\n",
    "\n",
    "def get_edge_webdriver_url():\n",
    "    try:\n",
    "        response = requests.get('http://127.0.0.1:62312')  # Adjust the URL as needed\n",
    "        if response.status_code == 200:\n",
    "            return response.text.strip()\n",
    "    except requests.exceptions.RequestException:\n",
    "        pass\n",
    "    return None\n",
    "\n",
    "def is_port_open(host, port):\n",
    "    try:\n",
    "        with socket.socket(socket.AF_INET, socket.SOCK_STREAM) as s:\n",
    "            s.settimeout(1)  # Adjust the timeout as needed\n",
    "            s.connect((host, port))\n",
    "        return True\n",
    "    except (ConnectionRefusedError, TimeoutError):\n",
    "        return False\n",
    "\n",
    "edge_webdriver_url = get_edge_webdriver_url()\n",
    "\n",
    "if edge_webdriver_url:\n",
    "    print(f\"Edge WebDriver URL: {edge_webdriver_url}\")\n",
    "    host, port = edge_webdriver_url.split(':')\n",
    "    if is_port_open(host, int(port)):\n",
    "        print(f\"Port {port} on {host} is open and accessible.\")\n",
    "    else:\n",
    "        print(f\"Port {port} on {host} is closed or not accessible.\")\n",
    "else:\n",
    "    print(\"Edge WebDriver URL not found or accessible.\")"
   ]
  },
  {
   "cell_type": "code",
   "execution_count": 19,
   "id": "57152639",
   "metadata": {},
   "outputs": [
    {
     "name": "stdout",
     "output_type": "stream",
     "text": [
      "Debugger Address: localhost:62872\n"
     ]
    }
   ],
   "source": [
    "from msedge.selenium_tools import Edge, EdgeOptions\n",
    "import warnings\n",
    "\n",
    "warnings.filterwarnings(\"ignore\")\n",
    "\n",
    "# Launch Microsoft Edge (Chromium)\n",
    "options = EdgeOptions()\n",
    "options.use_chromium = True\n",
    "options.binary_location = r\"C:\\Program Files (x86)\\Microsoft\\Edge\\Application\\msedge.exe\"\n",
    "\n",
    "# Start Microsoft Edge with the debugger address\n",
    "driver = Edge(executable_path=r\"C:\\Users\\perfect\\Selenium\\msedgedriver.exe\", options=options)\n",
    "driver.get(\"https://www.yahoo.com/\")\n",
    "\n",
    "# Get the debugger address\n",
    "debugger_address = driver.capabilities['ms:edgeOptions']['debuggerAddress']\n",
    "print(f\"Debugger Address: {debugger_address}\")"
   ]
  },
  {
   "cell_type": "code",
   "execution_count": 13,
   "id": "baf0df74",
   "metadata": {},
   "outputs": [
    {
     "name": "stdout",
     "output_type": "stream",
     "text": [
      "Edge WebDriver URL not found or accessible.\n"
     ]
    }
   ],
   "source": [
    "import socket\n",
    "import requests\n",
    "\n",
    "def get_edge_webdriver_url():\n",
    "    try:\n",
    "        response = requests.get('http://127.0.0.1:62312')  # Adjust the URL as needed\n",
    "        if response.status_code == 200:\n",
    "            return response.text.strip()\n",
    "    except requests.exceptions.RequestException:\n",
    "        pass\n",
    "    return None\n",
    "\n",
    "def is_port_open(host, port):\n",
    "    try:\n",
    "        with socket.socket(socket.AF_INET, socket.SOCK_STREAM) as s:\n",
    "            s.settimeout(1)  # Adjust the timeout as needed\n",
    "            s.connect((host, port))\n",
    "        return True\n",
    "    except (ConnectionRefusedError, TimeoutError):\n",
    "        return False\n",
    "\n",
    "edge_webdriver_url = get_edge_webdriver_url()\n",
    "\n",
    "if edge_webdriver_url:\n",
    "    print(f\"Edge WebDriver URL: {edge_webdriver_url}\")\n",
    "    host, port = edge_webdriver_url.split(':')\n",
    "    if is_port_open(host, int(port)):\n",
    "        print(f\"Port {port} on {host} is open and accessible.\")\n",
    "    else:\n",
    "        print(f\"Port {port} on {host} is closed or not accessible.\")\n",
    "else:\n",
    "    print(\"Edge WebDriver URL not found or accessible.\")"
   ]
  },
  {
   "cell_type": "code",
   "execution_count": 12,
   "id": "fb7833a8",
   "metadata": {},
   "outputs": [
    {
     "name": "stdout",
     "output_type": "stream",
     "text": [
      "Port 8585 on 127.0.0.1 is open and accessible.\n"
     ]
    }
   ],
   "source": [
    "import socket\n",
    "\n",
    "def is_port_open(host, port):\n",
    "    try:\n",
    "        with socket.socket(socket.AF_INET, socket.SOCK_STREAM) as s:\n",
    "            s.settimeout(1)  # Adjust the timeout as needed\n",
    "            s.connect((host, port))\n",
    "        return True\n",
    "    except (ConnectionRefusedError, TimeoutError):\n",
    "        return False\n",
    "\n",
    "host = \"127.0.0.1\"  # Remove \"http://\" prefix\n",
    "port = 8585  # Corrected to 8585\n",
    "\n",
    "if is_port_open(host, port):\n",
    "    print(f\"Port {port} on {host} is open and accessible.\")\n",
    "else:\n",
    "    print(f\"Port {port} on {host} is closed or not accessible.\")"
   ]
  },
  {
   "cell_type": "code",
   "execution_count": null,
   "id": "ba1c4951",
   "metadata": {},
   "outputs": [],
   "source": [
    "import pyperclip\n",
    "\n",
    "\n",
    "phone_number = \"+923212712753\"\n",
    "name = \"Hafiz Hassan Mustafa\"\n",
    "message = \"How are you?\"\n",
    "\n",
    "\n",
    "driver.get(f\"https://web.whatsapp.com/send/?phone=%2B{phone_number}&text={name}&type=phone_number&app_absent=0\")\n",
    "driver.implicitly_wait(10)\n",
    "\n",
    "# Sending Message\n",
    "content = f'Dear {name}\\n{message}'\n",
    "pyperclip.copy(content)\n",
    "elem = driver.find_element('xpath', '/html/body/div[1]/div/div/div[5]/div/footer/div[1]/div/span[2]/div/div[2]/div[1]/div/div[1]/p')\n",
    "elem.click()\n",
    "elem.send_keys(Keys.CONTROL, 'v')\n",
    "send_btn = driver.find_element('xpath', '/html/body/div[1]/div/div/div[5]/div/footer/div[1]/div/span[2]/div/div[2]/div[2]/button/span')\n",
    "send_btn.click()\n",
    "time.sleep(1)\n",
    "\n",
    "send_btn = driver.find_element('xpath','/html/body/div[1]/div/div/div[3]/div[2]/span/div/span/div/div/div[2]/div/div[2]/div[2]/div/div')\n",
    "send_btn.click()\n",
    "print('Message Sent to: '+ name + \"(\" + phone_number + \")\" )\n",
    "time.sleep(10)\n",
    "\n",
    "# Close the WebDriver when done\n",
    "driver.quit()"
   ]
  },
  {
   "cell_type": "code",
   "execution_count": 22,
   "id": "5ee8afc9",
   "metadata": {},
   "outputs": [
    {
     "name": "stdout",
     "output_type": "stream",
     "text": [
      "3.141.0\n"
     ]
    }
   ],
   "source": [
    "import selenium\n",
    "print(selenium.__version__)"
   ]
  },
  {
   "cell_type": "code",
   "execution_count": null,
   "id": "f6f2c45a",
   "metadata": {},
   "outputs": [],
   "source": [
    "import psutil\n",
    "\n",
    "# Search for Microsoft Edge processes\n",
    "edge_processes = [proc for proc in psutil.process_iter(attrs=['pid', 'name']) if 'msedge' in proc.info['name'].lower()]\n",
    "\n",
    "if edge_processes:\n",
    "    for proc in edge_processes:\n",
    "        print(f\"Found Edge process (PID {proc.info['pid']})\")\n",
    "\n",
    "        # You may need to inspect these processes further to find the port information.\n",
    "        # This could involve parsing command line arguments or examining network connections.\n",
    "else:\n",
    "    print(\"Microsoft Edge is not running.\")"
   ]
  },
  {
   "cell_type": "code",
   "execution_count": 2,
   "id": "2af41f9f",
   "metadata": {},
   "outputs": [
    {
     "ename": "SyntaxError",
     "evalue": "invalid syntax (4177846875.py, line 1)",
     "output_type": "error",
     "traceback": [
      "\u001b[1;36m  Cell \u001b[1;32mIn[2], line 1\u001b[1;36m\u001b[0m\n\u001b[1;33m    msedge.runtime.getURL('debuggerAddress', function(url) {\u001b[0m\n\u001b[1;37m                                                           ^\u001b[0m\n\u001b[1;31mSyntaxError\u001b[0m\u001b[1;31m:\u001b[0m invalid syntax\n"
     ]
    }
   ],
   "source": [
    "msedge.runtime.getURL('debuggerAddress', function(url) {\n",
    "  console.log('Debugger Address:', url);\n",
    "});\n"
   ]
  },
  {
   "cell_type": "code",
   "execution_count": 3,
   "id": "5e8e78fd",
   "metadata": {},
   "outputs": [
    {
     "name": "stdout",
     "output_type": "stream",
     "text": [
      "Debugger Address: <coroutine object get_edge_debugger_address at 0x000002136B14F140>\n"
     ]
    }
   ],
   "source": [
    "from pyppeteer import launch\n",
    "\n",
    "async def get_edge_debugger_address():\n",
    "    browser = await launch()\n",
    "    # Open a new page\n",
    "    page = await browser.newPage()\n",
    "    # Get the debugger address\n",
    "    debugger_address = browser.wsEndpoint\n",
    "    await browser.close()\n",
    "    return debugger_address\n",
    "\n",
    "debugger_address = get_edge_debugger_address()\n",
    "print(f\"Debugger Address: {debugger_address}\")\n"
   ]
  },
  {
   "cell_type": "code",
   "execution_count": null,
   "id": "6b1c3c33",
   "metadata": {},
   "outputs": [],
   "source": []
  },
  {
   "cell_type": "code",
   "execution_count": null,
   "id": "bd1080e5",
   "metadata": {},
   "outputs": [],
   "source": []
  }
 ],
 "metadata": {
  "kernelspec": {
   "display_name": "Python 3 (ipykernel)",
   "language": "python",
   "name": "python3"
  },
  "language_info": {
   "codemirror_mode": {
    "name": "ipython",
    "version": 3
   },
   "file_extension": ".py",
   "mimetype": "text/x-python",
   "name": "python",
   "nbconvert_exporter": "python",
   "pygments_lexer": "ipython3",
   "version": "3.10.9"
  }
 },
 "nbformat": 4,
 "nbformat_minor": 5
}
